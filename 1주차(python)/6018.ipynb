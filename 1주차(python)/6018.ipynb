{
 "cells": [
  {
   "cell_type": "markdown",
   "metadata": {},
   "source": [
    "24시간 시:분 형식으로 시간이 입력될 때, 그대로 출력하는 연습을 해보자.\n",
    "\n",
    "예시\n",
    "a, b = input().split(':')\n",
    "print(a, b, sep=':')\n",
    "와 같은 방법으로 가능하다.\n",
    "\n",
    "참고\n",
    "input().split(':') 를 사용하면 콜론 ':' 기호를 기준으로 자른다.\n",
    "print(?, ?, sep=':') 를 사용하면 콜론 ':' 기호를 사이에 두고 값을 출력한다.\n",
    "sep 는 분류기호(seperator)를 의미한다."
   ]
  },
  {
   "cell_type": "markdown",
   "metadata": {},
   "source": [
    "## 풀이"
   ]
  },
  {
   "cell_type": "code",
   "execution_count": 1,
   "metadata": {},
   "outputs": [
    {
     "name": "stdout",
     "output_type": "stream",
     "text": [
      "1:2\n"
     ]
    }
   ],
   "source": [
    "a, b = input().split(':')\n",
    "print(a, b, sep=':')"
   ]
  },
  {
   "cell_type": "code",
   "execution_count": null,
   "metadata": {},
   "outputs": [],
   "source": []
  }
 ],
 "metadata": {
  "kernelspec": {
   "display_name": "Python 3",
   "language": "python",
   "name": "python3"
  },
  "language_info": {
   "codemirror_mode": {
    "name": "ipython",
    "version": 3
   },
   "file_extension": ".py",
   "mimetype": "text/x-python",
   "name": "python",
   "nbconvert_exporter": "python",
   "pygments_lexer": "ipython3",
   "version": "3.12.4"
  }
 },
 "nbformat": 4,
 "nbformat_minor": 2
}

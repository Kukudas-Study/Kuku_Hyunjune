{
 "cells": [
  {
   "cell_type": "markdown",
   "metadata": {},
   "source": [
    "python 언어에서 가장 기본적인 명령이 출력문이다.\n",
    "print( )를 이용해 다음 단어를 출력하시오.\n",
    "\n",
    "Hello\n",
    "\n",
    "참고\n",
    "아래와 같은 소스 코드를 작성하고 실행시키면,\n",
    "지정한 \"문장\"이 출력(print)된다.\n",
    "print(\"문장\") \n",
    "\n",
    "** 주의 : 본 화면에서 복사하여 붙여넣기하면 제대로 되지 않을 수 있으니 직접 소스코드를 작성해 넣어야 한다."
   ]
  },
  {
   "cell_type": "code",
   "execution_count": 1,
   "metadata": {},
   "outputs": [
    {
     "name": "stdout",
     "output_type": "stream",
     "text": [
      "Hello\n"
     ]
    }
   ],
   "source": [
    "print('Hello')"
   ]
  },
  {
   "cell_type": "code",
   "execution_count": null,
   "metadata": {},
   "outputs": [],
   "source": []
  }
 ],
 "metadata": {
  "kernelspec": {
   "display_name": "Python 3",
   "language": "python",
   "name": "python3"
  },
  "language_info": {
   "codemirror_mode": {
    "name": "ipython",
    "version": 3
   },
   "file_extension": ".py",
   "mimetype": "text/x-python",
   "name": "python",
   "nbconvert_exporter": "python",
   "pygments_lexer": "ipython3",
   "version": "3.12.4"
  }
 },
 "nbformat": 4,
 "nbformat_minor": 2
}

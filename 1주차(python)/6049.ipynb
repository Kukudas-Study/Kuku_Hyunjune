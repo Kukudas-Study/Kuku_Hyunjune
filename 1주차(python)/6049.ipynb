{
 "cells": [
  {
   "cell_type": "markdown",
   "metadata": {},
   "source": [
    "두 정수(a, b)를 입력받아\n",
    "a와 b의 값이 같으면 True 를, 같지 않으면 False 를 출력하는 프로그램을 작성해보자.\n",
    "\n",
    "참고\n",
    "어떤 값을 비교하기 위해 비교/관계(comparison/relational) 연산자(operator)를 사용할 수 있다.\n",
    "\n",
    "비교/관계연산자 == (equal sign 2개) 는\n",
    "왼쪽의 계산 결과값과 오른쪽의 계산 결과값이 같은 경우 True(참)로 계산하고,\n",
    "그 외의 경우에는 False(거짓)로 계산한다.\n",
    "\n",
    "비교/관계연산자도 일반적인 사칙연산자처럼 주어진 두 수를 이용해 계산을 수행하고,\n",
    "그 결과를 True(참), 또는 False(거짓)로 계산해 주는 연산자이다.\n",
    "\n",
    "비교/관계연산자는 <, >, <=, >=, ==(같다), !=(다르다) 6개가 있다.\n",
    "\n",
    "** 수학에서 왼쪽과 오른쪽의 계산 결과가 같음(동치)을 나타내는 기호 =(equal sign) 1개는\n",
    "프로그래밍언어에서는 전혀 다른 의미로 사용된다.\n",
    "\n",
    "a = 1 와 같은 표현은 a와 1의 값이 같다는 의미가 아니라\n",
    "오른쪽의 계산 결과값인 1을 왼쪽의 변수 a에 저장하라는 의미이다.\n"
   ]
  },
  {
   "cell_type": "markdown",
   "metadata": {},
   "source": [
    "## 풀이"
   ]
  },
  {
   "cell_type": "code",
   "execution_count": 5,
   "metadata": {},
   "outputs": [
    {
     "name": "stdout",
     "output_type": "stream",
     "text": [
      "True\n"
     ]
    }
   ],
   "source": [
    "a, b = input().split()\n",
    "a = int(a)\n",
    "b = int(b)\n",
    "\n",
    "print(a==b)"
   ]
  },
  {
   "cell_type": "code",
   "execution_count": null,
   "metadata": {},
   "outputs": [],
   "source": []
  }
 ],
 "metadata": {
  "kernelspec": {
   "display_name": "Python 3",
   "language": "python",
   "name": "python3"
  },
  "language_info": {
   "codemirror_mode": {
    "name": "ipython",
    "version": 3
   },
   "file_extension": ".py",
   "mimetype": "text/x-python",
   "name": "python",
   "nbconvert_exporter": "python",
   "pygments_lexer": "ipython3",
   "version": "3.12.4"
  }
 },
 "nbformat": 4,
 "nbformat_minor": 2
}

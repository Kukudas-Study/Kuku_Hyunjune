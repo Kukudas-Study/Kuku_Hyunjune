{
 "cells": [
  {
   "cell_type": "markdown",
   "metadata": {},
   "source": [
    "6자리의 연월일(YYMMDD)을 입력받아 나누어 출력해보자.\n",
    "\n",
    "참고\n",
    "s = input()\n",
    "print(s[0:2])\n",
    "\n",
    "를 실행하면 0번째 문자부터 1번째 문자까지 잘라 출력한다.\n",
    "s[a:b] 라고 하면, s라는 단어에서 a번째 문자부터 b-1번째 문자까지 잘라낸 부분을 의미한다.\n",
    "다른 자르기 방법도 있다."
   ]
  },
  {
   "cell_type": "markdown",
   "metadata": {},
   "source": [
    "## 풀이"
   ]
  },
  {
   "cell_type": "code",
   "execution_count": 1,
   "metadata": {},
   "outputs": [
    {
     "name": "stdout",
     "output_type": "stream",
     "text": [
      "12 34 56\n"
     ]
    }
   ],
   "source": [
    "s = input()\n",
    "print(s[0:2], s[2:4], s[4:6], sep=' ')"
   ]
  },
  {
   "cell_type": "code",
   "execution_count": null,
   "metadata": {},
   "outputs": [],
   "source": []
  }
 ],
 "metadata": {
  "kernelspec": {
   "display_name": "Python 3",
   "language": "python",
   "name": "python3"
  },
  "language_info": {
   "codemirror_mode": {
    "name": "ipython",
    "version": 3
   },
   "file_extension": ".py",
   "mimetype": "text/x-python",
   "name": "python",
   "nbconvert_exporter": "python",
   "pygments_lexer": "ipython3",
   "version": "3.12.4"
  }
 },
 "nbformat": 4,
 "nbformat_minor": 2
}

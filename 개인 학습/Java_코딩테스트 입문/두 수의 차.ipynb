{
 "cells": [
  {
   "cell_type": "markdown",
   "metadata": {},
   "source": [
    "### 문제 설명\n",
    "\n",
    "정수 num1과 num2가 주어질 때, num1에서 num2를 뺀 값을 return하도록 soltuion 함수를 완성해주세요.\n",
    "___\n",
    "### 제한사항\n",
    "-50000 ≤ num1 ≤ 50000\n",
    "-50000 ≤ num2 ≤ 50000\n",
    "___\n",
    "### 입출력 예\n",
    "num1\tnum2\tresult\n",
    "\n",
    "2\t    3\t    -1\n",
    "\n",
    "100\t    2\t    98\n",
    "___\n",
    "\n",
    "### 입출력 예 #1\n",
    "\n",
    "num1이 2이고 num2가 3이므로 2 - 3 = -1을 return합니다.\n",
    "\n",
    "### 입출력 예 #2\n",
    "\n",
    "num1이 100이고 num2가 2이므로 100 - 2 = 98을 return합니다.\n",
    "___"
   ]
  },
  {
   "cell_type": "markdown",
   "metadata": {},
   "source": [
    "# 풀이"
   ]
  },
  {
   "cell_type": "code",
   "execution_count": null,
   "metadata": {},
   "outputs": [],
   "source": [
    "class Solution {\n",
    "    public int solution(int num1, int num2) {\n",
    "        int answer = num1 - num2;\n",
    "        return answer;\n",
    "    }\n",
    "}"
   ]
  },
  {
   "cell_type": "code",
   "execution_count": null,
   "metadata": {},
   "outputs": [],
   "source": []
  }
 ],
 "metadata": {
  "kernelspec": {
   "display_name": "Python 3",
   "language": "python",
   "name": "python3"
  },
  "language_info": {
   "codemirror_mode": {
    "name": "ipython",
    "version": 3
   },
   "file_extension": ".py",
   "mimetype": "text/x-python",
   "name": "python",
   "nbconvert_exporter": "python",
   "pygments_lexer": "ipython3",
   "version": "3.12.4"
  }
 },
 "nbformat": 4,
 "nbformat_minor": 2
}
